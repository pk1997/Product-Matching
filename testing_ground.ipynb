{
 "cells": [
  {
   "cell_type": "code",
   "execution_count": 1,
   "metadata": {},
   "outputs": [],
   "source": [
    "import pandas as pd\n",
    "from transformers import pipeline\n"
   ]
  },
  {
   "cell_type": "code",
   "execution_count": 2,
   "metadata": {},
   "outputs": [
    {
     "name": "stdout",
     "output_type": "stream",
     "text": [
      "Requirement already satisfied: sentencepiece in /Users/pavank/anaconda3/lib/python3.11/site-packages (0.1.99)\n"
     ]
    }
   ],
   "source": [
    "!pip install sentencepiece"
   ]
  },
  {
   "cell_type": "code",
   "execution_count": 3,
   "metadata": {},
   "outputs": [],
   "source": [
    "offers_training_df = pd.read_parquet('data/offers_training.parquet')"
   ]
  },
  {
   "cell_type": "code",
   "execution_count": 4,
   "metadata": {},
   "outputs": [
    {
     "data": {
      "text/plain": [
       "'Number of products in training: 102,884'"
      ]
     },
     "execution_count": 4,
     "metadata": {},
     "output_type": "execute_result"
    }
   ],
   "source": [
    "f'Number of products in training: {len(offers_training_df):,}'"
   ]
  },
  {
   "cell_type": "code",
   "execution_count": 5,
   "metadata": {},
   "outputs": [
    {
     "data": {
      "text/plain": [
       "['offer_id',\n",
       " 'shop',\n",
       " 'lang',\n",
       " 'brand',\n",
       " 'color',\n",
       " 'title',\n",
       " 'description',\n",
       " 'price',\n",
       " 'url',\n",
       " 'image_urls']"
      ]
     },
     "execution_count": 5,
     "metadata": {},
     "output_type": "execute_result"
    }
   ],
   "source": [
    "list(offers_training_df.columns)"
   ]
  },
  {
   "cell_type": "code",
   "execution_count": 6,
   "metadata": {},
   "outputs": [
    {
     "data": {
      "text/plain": [
       "array(['de'], dtype=object)"
      ]
     },
     "execution_count": 6,
     "metadata": {},
     "output_type": "execute_result"
    }
   ],
   "source": [
    "offers_training_df['lang'].unique()"
   ]
  },
  {
   "cell_type": "code",
   "execution_count": 7,
   "metadata": {},
   "outputs": [
    {
     "data": {
      "text/plain": [
       "'{\"Material\": [\"Baumwolle\"], \"\\\\u00c4rmell\\\\u00e4nge\": [\"\\\\u00c4rmellos\"], \"Tr\\\\u00e4gerart\": [\"Normaler Tr\\\\u00e4ger\"], \"Ausschnitt\": [\"Rundhals-Ausschnitt\"], \"L\\\\u00e4nge\": [\"Kurz/Mini\"], \"Marke\": [\"PIECES\"], \"Passform\": [\"Figurbetonte Passform\"], \"Zielgruppe\": [\"Frauen\"], \"Quick Filter Style Group\": [\"Trend\"], \"Suchfarbe\": [\"Blau\"], \"Gr\\\\u00f6\\\\u00dfenlauf\": [\"Damen - Intern.\"], \"Detailfarbe\": [\"hellblau\"], \"Ordersaison\": [\"FS 21\"], \"Muster\": [\"Unifarben\"], \"Business\": [\"Freizeit\"], \"Design\": [\"Rippstrick\", \"Eingefasster Ausschnitt\"], \"Extras\": [\"Weicher Griff\", \"Ton-in-Ton-N\\\\u00e4hte\"], \"Ursprungsland\": [\"T\\\\u00fcrkei\"], \"Saison\": [\"Fr\\\\u00fchjahr / Sommer\"], \"Geschlecht\": [\"Frauen\"], \"Size Chart\": [\"female tops\"], \"Produktart\": [\"Kleid\"], \"Gr\\\\u00f6\\\\u00dfe\": [\"def_female_konf\"], \"Sondergr\\\\u00f6\\\\u00dfen f\\\\u00fcr Kategoriezuordnung\": [\"Kleine Cups\", \"Mittlere Cups\", \"Gro\\\\u00dfe Cups\"], \"styleCluster\": [\"6\"], \"Display Colors\": [\"hellblau\"], \"Style group\": [\"trend\"], \"Brand logo\": [\"PIECES\"], \"Name\": [\"Kleid\"], \"Description\": [\"- Rundhalsausschnitt\\\\n- Dehnbares geripptes Material\\\\n- Einfarbig\\\\n- K\\\\u00f6rperbetonte Passform\"], \"Produkt Beschreibung\": \"- Rundhalsausschnitt\\\\n- Dehnbares geripptes Material\\\\n- Einfarbig\\\\n- K\\\\u00f6rperbetonte Passform\", \"Materialzusammensetzung\": \"Material 95 Baumwolle % 5 Elasthan %\", \"Bulletpoints\": \"Rundhalsausschnitt Dehnbares geripptes Material Einfarbig\"}'"
      ]
     },
     "execution_count": 7,
     "metadata": {},
     "output_type": "execute_result"
    }
   ],
   "source": [
    "offers_training_df['description'][0]"
   ]
  },
  {
   "cell_type": "code",
   "execution_count": 8,
   "metadata": {},
   "outputs": [
    {
     "data": {
      "text/plain": [
       "['- Rundhalsausschnitt\\n- Dehnbares geripptes Material\\n- Einfarbig\\n- Körperbetonte Passform']"
      ]
     },
     "execution_count": 8,
     "metadata": {},
     "output_type": "execute_result"
    }
   ],
   "source": [
    "dict = eval('{\"Material\": [\"Baumwolle\"], \"\\\\u00c4rmell\\\\u00e4nge\": [\"\\\\u00c4rmellos\"], \"Tr\\\\u00e4gerart\": [\"Normaler Tr\\\\u00e4ger\"], \"Ausschnitt\": [\"Rundhals-Ausschnitt\"], \"L\\\\u00e4nge\": [\"Kurz/Mini\"], \"Marke\": [\"PIECES\"], \"Passform\": [\"Figurbetonte Passform\"], \"Zielgruppe\": [\"Frauen\"], \"Quick Filter Style Group\": [\"Trend\"], \"Suchfarbe\": [\"Blau\"], \"Gr\\\\u00f6\\\\u00dfenlauf\": [\"Damen - Intern.\"], \"Detailfarbe\": [\"hellblau\"], \"Ordersaison\": [\"FS 21\"], \"Muster\": [\"Unifarben\"], \"Business\": [\"Freizeit\"], \"Design\": [\"Rippstrick\", \"Eingefasster Ausschnitt\"], \"Extras\": [\"Weicher Griff\", \"Ton-in-Ton-N\\\\u00e4hte\"], \"Ursprungsland\": [\"T\\\\u00fcrkei\"], \"Saison\": [\"Fr\\\\u00fchjahr / Sommer\"], \"Geschlecht\": [\"Frauen\"], \"Size Chart\": [\"female tops\"], \"Produktart\": [\"Kleid\"], \"Gr\\\\u00f6\\\\u00dfe\": [\"def_female_konf\"], \"Sondergr\\\\u00f6\\\\u00dfen f\\\\u00fcr Kategoriezuordnung\": [\"Kleine Cups\", \"Mittlere Cups\", \"Gro\\\\u00dfe Cups\"], \"styleCluster\": [\"6\"], \"Display Colors\": [\"hellblau\"], \"Style group\": [\"trend\"], \"Brand logo\": [\"PIECES\"], \"Name\": [\"Kleid\"], \"Description\": [\"- Rundhalsausschnitt\\\\n- Dehnbares geripptes Material\\\\n- Einfarbig\\\\n- K\\\\u00f6rperbetonte Passform\"], \"Produkt Beschreibung\": \"- Rundhalsausschnitt\\\\n- Dehnbares geripptes Material\\\\n- Einfarbig\\\\n- K\\\\u00f6rperbetonte Passform\", \"Materialzusammensetzung\": \"Material 95 Baumwolle % 5 Elasthan %\", \"Bulletpoints\": \"Rundhalsausschnitt Dehnbares geripptes Material Einfarbig\"}')\n",
    "dict[\"Description\"]"
   ]
  },
  {
   "cell_type": "code",
   "execution_count": 12,
   "metadata": {},
   "outputs": [],
   "source": [
    "model_checkpoint = \"Helsinki-NLP/opus-mt-de-en\"\n",
    "translator = pipeline(\"translation\", model=model_checkpoint)\n",
    "def get_translation_de_en(sentence):\n",
    "    return translator(sentence)"
   ]
  },
  {
   "cell_type": "code",
   "execution_count": 15,
   "metadata": {},
   "outputs": [],
   "source": [
    "def translate_to_english(desc):\n",
    "    try:\n",
    "        dict = eval(desc)\n",
    "        return get_translation_de_en(dict['Description'])\n",
    "    except:\n",
    "        return desc"
   ]
  },
  {
   "cell_type": "code",
   "execution_count": 16,
   "metadata": {},
   "outputs": [],
   "source": [
    "\n",
    "offers_training_df['translated_description'] = offers_training_df['description'].apply(translate_to_english)"
   ]
  },
  {
   "cell_type": "code",
   "execution_count": null,
   "metadata": {},
   "outputs": [],
   "source": []
  }
 ],
 "metadata": {
  "kernelspec": {
   "display_name": "base",
   "language": "python",
   "name": "python3"
  },
  "language_info": {
   "codemirror_mode": {
    "name": "ipython",
    "version": 3
   },
   "file_extension": ".py",
   "mimetype": "text/x-python",
   "name": "python",
   "nbconvert_exporter": "python",
   "pygments_lexer": "ipython3",
   "version": "3.11.4"
  },
  "orig_nbformat": 4
 },
 "nbformat": 4,
 "nbformat_minor": 2
}
